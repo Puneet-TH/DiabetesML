{
 "cells": [
  {
   "cell_type": "code",
   "execution_count": 52,
   "id": "925c1cdb-ffae-4eb7-856b-d4b304e37f6d",
   "metadata": {},
   "outputs": [],
   "source": [
    "import pandas as pd\n",
    "import numpy as np\n",
    "from sklearn.model_selection import train_test_split\n",
    "from sklearn.preprocessing import StandardScaler\n",
    "from sklearn.ensemble import GradientBoostingClassifier\n",
    "from tensorflow.keras.models import Sequential\n",
    "from tensorflow.keras.layers import Dense, Dropout\n",
    "from tensorflow.keras.optimizers import Adam\n",
    "from tensorflow.keras.regularizers import l2 \n",
    "from tensorflow.keras.layers import Dense, Dropout, BatchNormalization"
   ]
  },
  {
   "cell_type": "markdown",
   "id": "f446dcd5-d4cc-42e5-87f6-5f9e9fe55150",
   "metadata": {},
   "source": [
    "\"\"\"\n",
    "🤖 Understanding ReLU & Sigmoid (Super Simple Explanation for a 10-Year-Old)\n",
    "\n",
    "Imagine you are teaching a robot to understand numbers and make decisions. \n",
    "The robot processes numbers using special switches called activation functions. \n",
    "Two important ones are:\n",
    "\n",
    "1️⃣ ReLU (Rectified Linear Unit) → Helps the robot stay positive\n",
    "2️⃣ Sigmoid → Helps the robot decide between two choices\n",
    "\n",
    "------------------------------------------------------------\n",
    "🔹 ReLU (Rectified Linear Unit)\n",
    "------------------------------------------------------------\n",
    "💡 What is it?\n",
    "- If the number is positive, keep it the same.\n",
    "- If the number is negative, change it to zero.\n",
    "\n",
    "📌 Simple Rule:\n",
    "    ReLU(x) = max(0, x)\n",
    "\n",
    "✅ Example:\n",
    "    Input    | ReLU Output\n",
    "    ----------------------\n",
    "      5      | 5\n",
    "     -3      | 0\n",
    "     10      | 10\n",
    "     -7      | 0\n",
    "\n",
    "🚀 Why Use ReLU?\n",
    "- It helps the model focus only on important (positive) signals.\n",
    "- It makes learning faster and more efficient.\n",
    "\n",
    "🧠 Think of it like a broken calculator that only shows numbers 0 or bigger.\n",
    "   If you type -5, it just says 0! 😆\n",
    "\n",
    "------------------------------------------------------------\n",
    "🔹 Sigmoid (For Yes/No Decisions)\n",
    "------------------------------------------------------------\n",
    "💡 What is it?\n",
    "- Takes any number and squishes it between 0 and 1.\n",
    "- If the output is close to 1, it means YES (e.g., \"Sweet Chocolate 🍫\").\n",
    "- If the output is close to 0, it means NO (e.g., \"Bitter Chocolate 🏴\").\n",
    "\n",
    "📌 Simple Rule:\n",
    "    Sigmoid(x) = 1 / (1 + e^(-x))\n",
    "\n",
    "✅ Example:\n",
    "    Input    | Sigmoid Output (Probability) | Meaning\n",
    "    ---------------------------------------\n",
    "      5      | 0.99                         | Almost YES ✅\n",
    "     -3      | 0.05                         | Almost NO ❌\n",
    "      0      | 0.50                         | Maybe 🤔\n",
    "     10      | 0.999                        | Definitely YES 🚀\n",
    "\n",
    "🚀 Why Use Sigmoid?\n",
    "- It's perfect for binary classification (Yes/No, Sweet/Bitter, 0/1).\n",
    "- It gives a probability score between 0 and 1.\n",
    "\n",
    "🧠 Think of it like a magic ball 🎱 that gives answers between 0% (No) and 100% (Yes). \n",
    "\n",
    "\"\"\""
   ]
  },
  {
   "cell_type": "code",
   "execution_count": 3,
   "id": "52318bb8-82d7-4e28-92a1-209a63ee09bd",
   "metadata": {},
   "outputs": [],
   "source": [
    "diabetes_data = pd.read_csv('diabetes.csv')"
   ]
  },
  {
   "cell_type": "code",
   "execution_count": 92,
   "id": "49aae870-7755-422e-839d-dfea362f5634",
   "metadata": {},
   "outputs": [
    {
     "name": "stderr",
     "output_type": "stream",
     "text": [
      "\n",
      "[notice] A new release of pip is available: 25.0 -> 25.0.1\n",
      "[notice] To update, run: python.exe -m pip install --upgrade pip\n"
     ]
    },
    {
     "name": "stdout",
     "output_type": "stream",
     "text": [
      "Defaulting to user installation because normal site-packages is not writeable\n",
      "Collecting seaborn\n",
      "  Downloading seaborn-0.13.2-py3-none-any.whl.metadata (5.4 kB)\n",
      "Requirement already satisfied: numpy!=1.24.0,>=1.20 in c:\\users\\asus\\appdata\\roaming\\python\\python310\\site-packages (from seaborn) (1.26.0)\n",
      "Requirement already satisfied: pandas>=1.2 in c:\\users\\asus\\appdata\\roaming\\python\\python310\\site-packages (from seaborn) (2.1.1)\n",
      "Requirement already satisfied: matplotlib!=3.6.1,>=3.4 in c:\\users\\asus\\appdata\\roaming\\python\\python310\\site-packages (from seaborn) (3.8.0)\n",
      "Requirement already satisfied: contourpy>=1.0.1 in c:\\users\\asus\\appdata\\roaming\\python\\python310\\site-packages (from matplotlib!=3.6.1,>=3.4->seaborn) (1.1.1)\n",
      "Requirement already satisfied: cycler>=0.10 in c:\\users\\asus\\appdata\\roaming\\python\\python310\\site-packages (from matplotlib!=3.6.1,>=3.4->seaborn) (0.12.1)\n",
      "Requirement already satisfied: fonttools>=4.22.0 in c:\\users\\asus\\appdata\\roaming\\python\\python310\\site-packages (from matplotlib!=3.6.1,>=3.4->seaborn) (4.43.1)\n",
      "Requirement already satisfied: kiwisolver>=1.0.1 in c:\\users\\asus\\appdata\\roaming\\python\\python310\\site-packages (from matplotlib!=3.6.1,>=3.4->seaborn) (1.4.5)\n",
      "Requirement already satisfied: packaging>=20.0 in c:\\users\\asus\\appdata\\roaming\\python\\python310\\site-packages (from matplotlib!=3.6.1,>=3.4->seaborn) (23.2)\n",
      "Requirement already satisfied: pillow>=6.2.0 in c:\\users\\asus\\appdata\\roaming\\python\\python310\\site-packages (from matplotlib!=3.6.1,>=3.4->seaborn) (10.0.1)\n",
      "Requirement already satisfied: pyparsing>=2.3.1 in c:\\users\\asus\\appdata\\roaming\\python\\python310\\site-packages (from matplotlib!=3.6.1,>=3.4->seaborn) (3.1.1)\n",
      "Requirement already satisfied: python-dateutil>=2.7 in c:\\users\\asus\\appdata\\roaming\\python\\python310\\site-packages (from matplotlib!=3.6.1,>=3.4->seaborn) (2.8.2)\n",
      "Requirement already satisfied: pytz>=2020.1 in c:\\users\\asus\\appdata\\roaming\\python\\python310\\site-packages (from pandas>=1.2->seaborn) (2023.3.post1)\n",
      "Requirement already satisfied: tzdata>=2022.1 in c:\\users\\asus\\appdata\\roaming\\python\\python310\\site-packages (from pandas>=1.2->seaborn) (2023.3)\n",
      "Requirement already satisfied: six>=1.5 in c:\\users\\asus\\appdata\\roaming\\python\\python310\\site-packages (from python-dateutil>=2.7->matplotlib!=3.6.1,>=3.4->seaborn) (1.16.0)\n",
      "Downloading seaborn-0.13.2-py3-none-any.whl (294 kB)\n",
      "Installing collected packages: seaborn\n",
      "Successfully installed seaborn-0.13.2\n"
     ]
    },
    {
     "data": {
      "image/png": "[encoded data removed]",
      "text/plain": [
       "<Figure size 640x480 with 1 Axes>"
      ]
     },
     "metadata": {},
     "output_type": "display_data"
    }
   ],
   "source": [
    "!pip install seaborn\n",
    "import seaborn as sns\n",
    "import matplotlib.pyplot as plt\n",
    "\n",
    "# Count the occurrences of each class\n",
    "sns.countplot(x=diabetes_data[\"Outcome\"])\n",
    "plt.title(\"Class Distribution of Outcome\")\n",
    "plt.show()\n"
   ]
  },
  {
   "cell_type": "code",
   "execution_count": 4,
   "id": "2d6fdb8b-411d-41c1-bbe3-b2fae7807bcb",
   "metadata": {},
   "outputs": [
    {
     "data": {
      "text/plain": [
       "(768, 9)"
      ]
     },
     "execution_count": 4,
     "metadata": {},
     "output_type": "execute_result"
    }
   ],
   "source": [
    "diabetes_data.shape"
   ]
  },
  {
   "cell_type": "code",
   "execution_count": 5,
   "id": "da4818c3-deea-4207-8ac0-526dd08e047a",
   "metadata": {},
   "outputs": [
    {
     "data": {
      "text/html": [
       "<div>\n",
       "<style scoped>\n",
       "    .dataframe tbody tr th:only-of-type {\n",
       "        vertical-align: middle;\n",
       "    }\n",
       "\n",
       "    .dataframe tbody tr th {\n",
       "        vertical-align: top;\n",
       "    }\n",
       "\n",
       "    .dataframe thead th {\n",
       "        text-align: right;\n",
       "    }\n",
       "</style>\n",
       "<table border=\"1\" class=\"dataframe\">\n",
       "  <thead>\n",
       "    <tr style=\"text-align: right;\">\n",
       "      <th></th>\n",
       "      <th>Pregnancies</th>\n",
       "      <th>Glucose</th>\n",
       "      <th>BloodPressure</th>\n",
       "      <th>SkinThickness</th>\n",
       "      <th>Insulin</th>\n",
       "      <th>BMI</th>\n",
       "      <th>DiabetesPedigreeFunction</th>\n",
       "      <th>Age</th>\n",
       "      <th>Outcome</th>\n",
       "    </tr>\n",
       "  </thead>\n",
       "  <tbody>\n",
       "    <tr>\n",
       "      <th>0</th>\n",
       "      <td>6</td>\n",
       "      <td>148</td>\n",
       "      <td>72</td>\n",
       "      <td>35</td>\n",
       "      <td>0</td>\n",
       "      <td>33.6</td>\n",
       "      <td>0.627</td>\n",
       "      <td>50</td>\n",
       "      <td>1</td>\n",
       "    </tr>\n",
       "    <tr>\n",
       "      <th>1</th>\n",
       "      <td>1</td>\n",
       "      <td>85</td>\n",
       "      <td>66</td>\n",
       "      <td>29</td>\n",
       "      <td>0</td>\n",
       "      <td>26.6</td>\n",
       "      <td>0.351</td>\n",
       "      <td>31</td>\n",
       "      <td>0</td>\n",
       "    </tr>\n",
       "    <tr>\n",
       "      <th>2</th>\n",
       "      <td>8</td>\n",
       "      <td>183</td>\n",
       "      <td>64</td>\n",
       "      <td>0</td>\n",
       "      <td>0</td>\n",
       "      <td>23.3</td>\n",
       "      <td>0.672</td>\n",
       "      <td>32</td>\n",
       "      <td>1</td>\n",
       "    </tr>\n",
       "    <tr>\n",
       "      <th>3</th>\n",
       "      <td>1</td>\n",
       "      <td>89</td>\n",
       "      <td>66</td>\n",
       "      <td>23</td>\n",
       "      <td>94</td>\n",
       "      <td>28.1</td>\n",
       "      <td>0.167</td>\n",
       "      <td>21</td>\n",
       "      <td>0</td>\n",
       "    </tr>\n",
       "    <tr>\n",
       "      <th>4</th>\n",
       "      <td>0</td>\n",
       "      <td>137</td>\n",
       "      <td>40</td>\n",
       "      <td>35</td>\n",
       "      <td>168</td>\n",
       "      <td>43.1</td>\n",
       "      <td>2.288</td>\n",
       "      <td>33</td>\n",
       "      <td>1</td>\n",
       "    </tr>\n",
       "  </tbody>\n",
       "</table>\n",
       "</div>"
      ],
      "text/plain": [
       "   Pregnancies  Glucose  BloodPressure  SkinThickness  Insulin   BMI  \\\n",
       "0            6      148             72             35        0  33.6   \n",
       "1            1       85             66             29        0  26.6   \n",
       "2            8      183             64              0        0  23.3   \n",
       "3            1       89             66             23       94  28.1   \n",
       "4            0      137             40             35      168  43.1   \n",
       "\n",
       "   DiabetesPedigreeFunction  Age  Outcome  \n",
       "0                     0.627   50        1  \n",
       "1                     0.351   31        0  \n",
       "2                     0.672   32        1  \n",
       "3                     0.167   21        0  \n",
       "4                     2.288   33        1  "
      ]
     },
     "execution_count": 5,
     "metadata": {},
     "output_type": "execute_result"
    }
   ],
   "source": [
    "diabetes_data.head()"
   ]
  },
  {
   "cell_type": "code",
   "execution_count": 6,
   "id": "c3cde10a-87f5-458f-986a-e3b58d5c3748",
   "metadata": {},
   "outputs": [
    {
     "data": {
      "text/html": [
       "<div>\n",
       "<style scoped>\n",
       "    .dataframe tbody tr th:only-of-type {\n",
       "        vertical-align: middle;\n",
       "    }\n",
       "\n",
       "    .dataframe tbody tr th {\n",
       "        vertical-align: top;\n",
       "    }\n",
       "\n",
       "    .dataframe thead th {\n",
       "        text-align: right;\n",
       "    }\n",
       "</style>\n",
       "<table border=\"1\" class=\"dataframe\">\n",
       "  <thead>\n",
       "    <tr style=\"text-align: right;\">\n",
       "      <th></th>\n",
       "      <th>Pregnancies</th>\n",
       "      <th>Glucose</th>\n",
       "      <th>BloodPressure</th>\n",
       "      <th>SkinThickness</th>\n",
       "      <th>Insulin</th>\n",
       "      <th>BMI</th>\n",
       "      <th>DiabetesPedigreeFunction</th>\n",
       "      <th>Age</th>\n",
       "      <th>Outcome</th>\n",
       "    </tr>\n",
       "  </thead>\n",
       "  <tbody>\n",
       "    <tr>\n",
       "      <th>763</th>\n",
       "      <td>10</td>\n",
       "      <td>101</td>\n",
       "      <td>76</td>\n",
       "      <td>48</td>\n",
       "      <td>180</td>\n",
       "      <td>32.9</td>\n",
       "      <td>0.171</td>\n",
       "      <td>63</td>\n",
       "      <td>0</td>\n",
       "    </tr>\n",
       "    <tr>\n",
       "      <th>764</th>\n",
       "      <td>2</td>\n",
       "      <td>122</td>\n",
       "      <td>70</td>\n",
       "      <td>27</td>\n",
       "      <td>0</td>\n",
       "      <td>36.8</td>\n",
       "      <td>0.340</td>\n",
       "      <td>27</td>\n",
       "      <td>0</td>\n",
       "    </tr>\n",
       "    <tr>\n",
       "      <th>765</th>\n",
       "      <td>5</td>\n",
       "      <td>121</td>\n",
       "      <td>72</td>\n",
       "      <td>23</td>\n",
       "      <td>112</td>\n",
       "      <td>26.2</td>\n",
       "      <td>0.245</td>\n",
       "      <td>30</td>\n",
       "      <td>0</td>\n",
       "    </tr>\n",
       "    <tr>\n",
       "      <th>766</th>\n",
       "      <td>1</td>\n",
       "      <td>126</td>\n",
       "      <td>60</td>\n",
       "      <td>0</td>\n",
       "      <td>0</td>\n",
       "      <td>30.1</td>\n",
       "      <td>0.349</td>\n",
       "      <td>47</td>\n",
       "      <td>1</td>\n",
       "    </tr>\n",
       "    <tr>\n",
       "      <th>767</th>\n",
       "      <td>1</td>\n",
       "      <td>93</td>\n",
       "      <td>70</td>\n",
       "      <td>31</td>\n",
       "      <td>0</td>\n",
       "      <td>30.4</td>\n",
       "      <td>0.315</td>\n",
       "      <td>23</td>\n",
       "      <td>0</td>\n",
       "    </tr>\n",
       "  </tbody>\n",
       "</table>\n",
       "</div>"
      ],
      "text/plain": [
       "     Pregnancies  Glucose  BloodPressure  SkinThickness  Insulin   BMI  \\\n",
       "763           10      101             76             48      180  32.9   \n",
       "764            2      122             70             27        0  36.8   \n",
       "765            5      121             72             23      112  26.2   \n",
       "766            1      126             60              0        0  30.1   \n",
       "767            1       93             70             31        0  30.4   \n",
       "\n",
       "     DiabetesPedigreeFunction  Age  Outcome  \n",
       "763                     0.171   63        0  \n",
       "764                     0.340   27        0  \n",
       "765                     0.245   30        0  \n",
       "766                     0.349   47        1  \n",
       "767                     0.315   23        0  "
      ]
     },
     "execution_count": 6,
     "metadata": {},
     "output_type": "execute_result"
    }
   ],
   "source": [
    "diabetes_data.tail()"
   ]
  },
  {
   "cell_type": "code",
   "execution_count": 7,
   "id": "ce378cae-36ab-4033-9786-deaf4c9b5ead",
   "metadata": {},
   "outputs": [
    {
     "data": {
      "text/plain": [
       "Pregnancies                 0\n",
       "Glucose                     0\n",
       "BloodPressure               0\n",
       "SkinThickness               0\n",
       "Insulin                     0\n",
       "BMI                         0\n",
       "DiabetesPedigreeFunction    0\n",
       "Age                         0\n",
       "Outcome                     0\n",
       "dtype: int64"
      ]
     },
     "execution_count": 7,
     "metadata": {},
     "output_type": "execute_result"
    }
   ],
   "source": [
    "diabetes_data.isnull().sum()"
   ]
  },
  {
   "cell_type": "code",
   "execution_count": 8,
   "id": "5d1f9968-4450-47bb-b2e5-62abfe15d567",
   "metadata": {},
   "outputs": [],
   "source": [
    "x = diabetes_data.drop(columns = 'Outcome', axis = 1)\n",
    "y = diabetes_data['Outcome']"
   ]
  },
  {
   "cell_type": "code",
   "execution_count": 9,
   "id": "df3d34b9-e146-495c-b68b-e304653002cd",
   "metadata": {},
   "outputs": [
    {
     "name": "stdout",
     "output_type": "stream",
     "text": [
      "     Pregnancies  Glucose  BloodPressure  SkinThickness  Insulin   BMI  \\\n",
      "0              6      148             72             35        0  33.6   \n",
      "1              1       85             66             29        0  26.6   \n",
      "2              8      183             64              0        0  23.3   \n",
      "3              1       89             66             23       94  28.1   \n",
      "4              0      137             40             35      168  43.1   \n",
      "..           ...      ...            ...            ...      ...   ...   \n",
      "763           10      101             76             48      180  32.9   \n",
      "764            2      122             70             27        0  36.8   \n",
      "765            5      121             72             23      112  26.2   \n",
      "766            1      126             60              0        0  30.1   \n",
      "767            1       93             70             31        0  30.4   \n",
      "\n",
      "     DiabetesPedigreeFunction  Age  \n",
      "0                       0.627   50  \n",
      "1                       0.351   31  \n",
      "2                       0.672   32  \n",
      "3                       0.167   21  \n",
      "4                       2.288   33  \n",
      "..                        ...  ...  \n",
      "763                     0.171   63  \n",
      "764                     0.340   27  \n",
      "765                     0.245   30  \n",
      "766                     0.349   47  \n",
      "767                     0.315   23  \n",
      "\n",
      "[768 rows x 8 columns]\n"
     ]
    }
   ],
   "source": [
    "print(x)"
   ]
  },
  {
   "cell_type": "code",
   "execution_count": 10,
   "id": "dd47cdf7-e20e-49ca-a498-f120672427c6",
   "metadata": {},
   "outputs": [
    {
     "name": "stdout",
     "output_type": "stream",
     "text": [
      "0      1\n",
      "1      0\n",
      "2      1\n",
      "3      0\n",
      "4      1\n",
      "      ..\n",
      "763    0\n",
      "764    0\n",
      "765    0\n",
      "766    1\n",
      "767    0\n",
      "Name: Outcome, Length: 768, dtype: int64\n"
     ]
    }
   ],
   "source": [
    "print(y)"
   ]
  },
  {
   "cell_type": "code",
   "execution_count": 11,
   "id": "4b8bc510-9be1-4304-8e34-801389e02884",
   "metadata": {},
   "outputs": [],
   "source": [
    "X_train, X_test, y_train, y_test = train_test_split(x, y, test_size=0.2, random_state=42)"
   ]
  },
  {
   "cell_type": "code",
   "execution_count": 12,
   "id": "87858e93-6a41-4246-82ee-3590d3c9d586",
   "metadata": {},
   "outputs": [
    {
     "data": {
      "text/plain": [
       "((768, 9), (614, 8), (154, 8), (614,), (154,))"
      ]
     },
     "execution_count": 12,
     "metadata": {},
     "output_type": "execute_result"
    }
   ],
   "source": [
    "diabetes_data.shape,X_train.shape,X_test.shape,y_train.shape,y_test.shape"
   ]
  },
  {
   "cell_type": "code",
   "execution_count": 13,
   "id": "5fa4e85e-80a0-4e92-909f-d00f29da9e18",
   "metadata": {},
   "outputs": [],
   "source": [
    "scaler = StandardScaler()\n",
    "X_train = scaler.fit_transform(X_train)\n",
    "X_test = scaler.transform(X_test)"
   ]
  },
  {
   "cell_type": "markdown",
   "id": "6e6c3970-b9ab-4cd2-ba86-f15260760c10",
   "metadata": {},
   "source": [
    "normalising data values using standard scaler so that all features have  a mean of 0 and a standard deviation of 1."
   ]
  },
  {
   "cell_type": "code",
   "execution_count": 14,
   "id": "e3907795-764c-495f-8381-5fe7360c2059",
   "metadata": {},
   "outputs": [
    {
     "data": {
      "text/plain": [
       "array([[ 0.68185612, -0.71402038, -0.61712658, ...,  0.26073561,\n",
       "        -0.11637247,  0.87809089],\n",
       "       [-0.52639686, -0.27664283,  0.30191569, ...,  0.48053518,\n",
       "        -0.954231  , -1.03594038],\n",
       "       [-0.52639686, -0.40160784, -0.29275872, ..., -0.15300476,\n",
       "        -0.9245197 , -1.03594038],\n",
       "       ...,\n",
       "       [ 1.28598261, -0.80774414,  0.13973176, ...,  0.62275843,\n",
       "         0.04703966,  2.0961108 ],\n",
       "       [-0.52639686,  0.78555979,  0.03160914, ..., -0.51502758,\n",
       "        -0.39268751, -0.33992901],\n",
       "       [ 1.28598261, -1.46381046,  0.03160914, ...,  0.42881763,\n",
       "         0.70068816,  0.53008521]])"
      ]
     },
     "execution_count": 14,
     "metadata": {},
     "output_type": "execute_result"
    }
   ],
   "source": [
    "X_test"
   ]
  },
  {
   "cell_type": "code",
   "execution_count": 15,
   "id": "6f76024d-d543-4169-b59f-4309a6ccf969",
   "metadata": {},
   "outputs": [
    {
     "data": {
      "text/plain": [
       "array([[-0.52639686, -1.15139792, -3.75268255, ..., -4.13525578,\n",
       "        -0.49073479, -1.03594038],\n",
       "       [ 1.58804586, -0.27664283,  0.68034485, ..., -0.48916881,\n",
       "         2.41502991,  1.48710085],\n",
       "       [-0.82846011,  0.56687102, -1.2658623 , ..., -0.42452187,\n",
       "         0.54916055, -0.94893896],\n",
       "       ...,\n",
       "       [ 1.8901091 , -0.62029661,  0.89659009, ...,  1.76054443,\n",
       "         1.981245  ,  0.44308379],\n",
       "       [-1.13052335,  0.62935353, -3.75268255, ...,  1.34680407,\n",
       "        -0.78487662, -0.33992901],\n",
       "       [-1.13052335,  0.12949347,  1.43720319, ..., -1.22614383,\n",
       "        -0.61552223, -1.03594038]])"
      ]
     },
     "execution_count": 15,
     "metadata": {},
     "output_type": "execute_result"
    }
   ],
   "source": [
    "X_train"
   ]
  },
  {
   "cell_type": "code",
   "execution_count": 83,
   "id": "c38f9267-b306-4d4d-84c6-e12f6cd4a956",
   "metadata": {},
   "outputs": [],
   "source": [
    "mlp = Sequential([\n",
    "    Dense(128, activation='relu', input_shape=(X_train.shape[1],), kernel_regularizer=l2(0.001)),\n",
    "    Dropout(0.5),  # Prevent overfitting\n",
    "    Dense(64, activation='relu', kernel_regularizer=l2(0.001)),\n",
    "    Dropout(0.5),\n",
    "    Dense(32, activation='relu', kernel_regularizer=l2(0.001)),\n",
    "    Dropout(0.5),\n",
    "    Dense(16, activation='relu', kernel_regularizer=l2(0.001)),\n",
    "    Dense(1, activation='sigmoid')  # Binary classification output\n",
    "])"
   ]
  },
  {
   "cell_type": "code",
   "execution_count": 84,
   "id": "dec55211-13ea-4694-a471-df61699e303f",
   "metadata": {},
   "outputs": [],
   "source": [
    "mlp.compile(optimizer=Adam(learning_rate=0.0005), loss='binary_crossentropy', metrics=['accuracy'])"
   ]
  },
  {
   "cell_type": "markdown",
   "id": "e3f77c1c-15d3-41e4-af66-9eabf9cb2443",
   "metadata": {},
   "source": [
    "- The model needs instructions on how to learn and improve.\n",
    "- Compilation sets up the learning process by choosing:\n",
    "  - An optimizer (how to adjust weights)\n",
    "  - A loss function (how to measure mistakes)\n",
    "  - Performance metrics (how well it's learning)\n",
    "\n",
    "- **optimizer=Adam(learning_rate=0.0005)** → Adam optimizer adjusts weights to minimize errors.\n",
    "- **loss='binary_crossentropy'** → Used for classification with two possible outcomes (0 or 1).\n",
    "- **metrics=['accuracy']** → Measures how often the model makes correct predictions.\n",
    "\n",
    "Think of it like setting up training rules for an athlete! The optimizer is the coach, the loss function is feedback on mistakes, and accuracy is the scoreboard"
   ]
  },
  {
   "cell_type": "code",
   "execution_count": 85,
   "id": "bb30ff3b-55c6-4199-9a54-406ec42e4c9f",
   "metadata": {},
   "outputs": [
    {
     "name": "stdout",
     "output_type": "stream",
     "text": [
      "Epoch 1/100\n",
      "10/10 [==============================] - 0s 14ms/step - loss: 0.8920 - accuracy: 0.4511 - val_loss: 0.8305 - val_accuracy: 0.6429\n",
      "Epoch 2/100\n",
      "10/10 [==============================] - 0s 4ms/step - loss: 0.8528 - accuracy: 0.5293 - val_loss: 0.8155 - val_accuracy: 0.6364\n",
      "Epoch 3/100\n",
      "10/10 [==============================] - 0s 4ms/step - loss: 0.8350 - accuracy: 0.5847 - val_loss: 0.8015 - val_accuracy: 0.6364\n",
      "Epoch 4/100\n",
      "10/10 [==============================] - 0s 4ms/step - loss: 0.8196 - accuracy: 0.6336 - val_loss: 0.7889 - val_accuracy: 0.6429\n",
      "Epoch 5/100\n",
      "10/10 [==============================] - 0s 4ms/step - loss: 0.8199 - accuracy: 0.6270 - val_loss: 0.7765 - val_accuracy: 0.6429\n",
      "Epoch 6/100\n",
      "10/10 [==============================] - 0s 4ms/step - loss: 0.8061 - accuracy: 0.6515 - val_loss: 0.7646 - val_accuracy: 0.6429\n",
      "Epoch 7/100\n",
      "10/10 [==============================] - 0s 4ms/step - loss: 0.7890 - accuracy: 0.6384 - val_loss: 0.7530 - val_accuracy: 0.6429\n",
      "Epoch 8/100\n",
      "10/10 [==============================] - 0s 10ms/step - loss: 0.7819 - accuracy: 0.6661 - val_loss: 0.7418 - val_accuracy: 0.6429\n",
      "Epoch 9/100\n",
      "10/10 [==============================] - 0s 5ms/step - loss: 0.7664 - accuracy: 0.6759 - val_loss: 0.7312 - val_accuracy: 0.6494\n",
      "Epoch 10/100\n",
      "10/10 [==============================] - 0s 4ms/step - loss: 0.7788 - accuracy: 0.6645 - val_loss: 0.7221 - val_accuracy: 0.6623\n",
      "Epoch 11/100\n",
      "10/10 [==============================] - 0s 3ms/step - loss: 0.7424 - accuracy: 0.6873 - val_loss: 0.7124 - val_accuracy: 0.7143\n",
      "Epoch 12/100\n",
      "10/10 [==============================] - 0s 4ms/step - loss: 0.7380 - accuracy: 0.6922 - val_loss: 0.7032 - val_accuracy: 0.7273\n",
      "Epoch 13/100\n",
      "10/10 [==============================] - 0s 4ms/step - loss: 0.7271 - accuracy: 0.6922 - val_loss: 0.6952 - val_accuracy: 0.7403\n",
      "Epoch 14/100\n",
      "10/10 [==============================] - 0s 4ms/step - loss: 0.7102 - accuracy: 0.6938 - val_loss: 0.6882 - val_accuracy: 0.7403\n",
      "Epoch 15/100\n",
      "10/10 [==============================] - 0s 4ms/step - loss: 0.7030 - accuracy: 0.6987 - val_loss: 0.6819 - val_accuracy: 0.7792\n",
      "Epoch 16/100\n",
      "10/10 [==============================] - 0s 4ms/step - loss: 0.7213 - accuracy: 0.6922 - val_loss: 0.6764 - val_accuracy: 0.7857\n",
      "Epoch 17/100\n",
      "10/10 [==============================] - 0s 4ms/step - loss: 0.7060 - accuracy: 0.7182 - val_loss: 0.6727 - val_accuracy: 0.7792\n",
      "Epoch 18/100\n",
      "10/10 [==============================] - 0s 4ms/step - loss: 0.6933 - accuracy: 0.7296 - val_loss: 0.6692 - val_accuracy: 0.7857\n",
      "Epoch 19/100\n",
      "10/10 [==============================] - 0s 5ms/step - loss: 0.6812 - accuracy: 0.7329 - val_loss: 0.6645 - val_accuracy: 0.7727\n",
      "Epoch 20/100\n",
      "10/10 [==============================] - 0s 4ms/step - loss: 0.6668 - accuracy: 0.7296 - val_loss: 0.6605 - val_accuracy: 0.7532\n",
      "Epoch 21/100\n",
      "10/10 [==============================] - 0s 4ms/step - loss: 0.6920 - accuracy: 0.7036 - val_loss: 0.6571 - val_accuracy: 0.7532\n",
      "Epoch 22/100\n",
      "10/10 [==============================] - 0s 5ms/step - loss: 0.6798 - accuracy: 0.7329 - val_loss: 0.6548 - val_accuracy: 0.7468\n",
      "Epoch 23/100\n",
      "10/10 [==============================] - 0s 4ms/step - loss: 0.6857 - accuracy: 0.7215 - val_loss: 0.6523 - val_accuracy: 0.7468\n",
      "Epoch 24/100\n",
      "10/10 [==============================] - 0s 4ms/step - loss: 0.6655 - accuracy: 0.7508 - val_loss: 0.6509 - val_accuracy: 0.7468\n",
      "Epoch 25/100\n",
      "10/10 [==============================] - 0s 4ms/step - loss: 0.6849 - accuracy: 0.7264 - val_loss: 0.6503 - val_accuracy: 0.7468\n",
      "Epoch 26/100\n",
      "10/10 [==============================] - 0s 4ms/step - loss: 0.6611 - accuracy: 0.7362 - val_loss: 0.6504 - val_accuracy: 0.7468\n",
      "Epoch 27/100\n",
      "10/10 [==============================] - 0s 4ms/step - loss: 0.6493 - accuracy: 0.7638 - val_loss: 0.6492 - val_accuracy: 0.7532\n",
      "Epoch 28/100\n",
      "10/10 [==============================] - 0s 4ms/step - loss: 0.6490 - accuracy: 0.7427 - val_loss: 0.6482 - val_accuracy: 0.7597\n",
      "Epoch 29/100\n",
      "10/10 [==============================] - 0s 4ms/step - loss: 0.6457 - accuracy: 0.7394 - val_loss: 0.6481 - val_accuracy: 0.7662\n",
      "Epoch 30/100\n",
      "10/10 [==============================] - 0s 4ms/step - loss: 0.6278 - accuracy: 0.7622 - val_loss: 0.6473 - val_accuracy: 0.7532\n",
      "Epoch 31/100\n",
      "10/10 [==============================] - 0s 4ms/step - loss: 0.6370 - accuracy: 0.7492 - val_loss: 0.6459 - val_accuracy: 0.7338\n",
      "Epoch 32/100\n",
      "10/10 [==============================] - 0s 4ms/step - loss: 0.6503 - accuracy: 0.7524 - val_loss: 0.6449 - val_accuracy: 0.7338\n",
      "Epoch 33/100\n",
      "10/10 [==============================] - 0s 4ms/step - loss: 0.6201 - accuracy: 0.7573 - val_loss: 0.6443 - val_accuracy: 0.7338\n",
      "Epoch 34/100\n",
      "10/10 [==============================] - 0s 4ms/step - loss: 0.6219 - accuracy: 0.7410 - val_loss: 0.6435 - val_accuracy: 0.7403\n",
      "Epoch 35/100\n",
      "10/10 [==============================] - 0s 4ms/step - loss: 0.6250 - accuracy: 0.7573 - val_loss: 0.6436 - val_accuracy: 0.7403\n",
      "Epoch 36/100\n",
      "10/10 [==============================] - 0s 4ms/step - loss: 0.6482 - accuracy: 0.7801 - val_loss: 0.6431 - val_accuracy: 0.7532\n",
      "Epoch 37/100\n",
      "10/10 [==============================] - 0s 4ms/step - loss: 0.6203 - accuracy: 0.7801 - val_loss: 0.6420 - val_accuracy: 0.7338\n",
      "Epoch 38/100\n",
      "10/10 [==============================] - 0s 4ms/step - loss: 0.6286 - accuracy: 0.7508 - val_loss: 0.6420 - val_accuracy: 0.7338\n",
      "Epoch 39/100\n",
      "10/10 [==============================] - 0s 4ms/step - loss: 0.6374 - accuracy: 0.7590 - val_loss: 0.6414 - val_accuracy: 0.7338\n",
      "Epoch 40/100\n",
      "10/10 [==============================] - 0s 5ms/step - loss: 0.6193 - accuracy: 0.7687 - val_loss: 0.6403 - val_accuracy: 0.7403\n",
      "Epoch 41/100\n",
      "10/10 [==============================] - 0s 5ms/step - loss: 0.6178 - accuracy: 0.7883 - val_loss: 0.6408 - val_accuracy: 0.7338\n",
      "Epoch 42/100\n",
      "10/10 [==============================] - 0s 5ms/step - loss: 0.6281 - accuracy: 0.7573 - val_loss: 0.6402 - val_accuracy: 0.7403\n",
      "Epoch 43/100\n",
      "10/10 [==============================] - 0s 4ms/step - loss: 0.6017 - accuracy: 0.7769 - val_loss: 0.6398 - val_accuracy: 0.7532\n",
      "Epoch 44/100\n",
      "10/10 [==============================] - 0s 4ms/step - loss: 0.6113 - accuracy: 0.7638 - val_loss: 0.6393 - val_accuracy: 0.7597\n",
      "Epoch 45/100\n",
      "10/10 [==============================] - 0s 5ms/step - loss: 0.6295 - accuracy: 0.7655 - val_loss: 0.6386 - val_accuracy: 0.7597\n",
      "Epoch 46/100\n",
      "10/10 [==============================] - 0s 4ms/step - loss: 0.6129 - accuracy: 0.7557 - val_loss: 0.6386 - val_accuracy: 0.7597\n",
      "Epoch 47/100\n",
      "10/10 [==============================] - 0s 4ms/step - loss: 0.6032 - accuracy: 0.7590 - val_loss: 0.6384 - val_accuracy: 0.7597\n",
      "Epoch 48/100\n",
      "10/10 [==============================] - 0s 4ms/step - loss: 0.5849 - accuracy: 0.7557 - val_loss: 0.6385 - val_accuracy: 0.7532\n",
      "Epoch 49/100\n",
      "10/10 [==============================] - 0s 4ms/step - loss: 0.5946 - accuracy: 0.7818 - val_loss: 0.6398 - val_accuracy: 0.7468\n",
      "Epoch 50/100\n",
      "10/10 [==============================] - 0s 4ms/step - loss: 0.5936 - accuracy: 0.7769 - val_loss: 0.6401 - val_accuracy: 0.7468\n",
      "Epoch 51/100\n",
      "10/10 [==============================] - 0s 5ms/step - loss: 0.6129 - accuracy: 0.7524 - val_loss: 0.6402 - val_accuracy: 0.7532\n",
      "Epoch 52/100\n",
      "10/10 [==============================] - 0s 5ms/step - loss: 0.5967 - accuracy: 0.7736 - val_loss: 0.6403 - val_accuracy: 0.7532\n",
      "Epoch 53/100\n",
      "10/10 [==============================] - 0s 4ms/step - loss: 0.5832 - accuracy: 0.7736 - val_loss: 0.6390 - val_accuracy: 0.7532\n",
      "Epoch 54/100\n",
      "10/10 [==============================] - 0s 4ms/step - loss: 0.5787 - accuracy: 0.7704 - val_loss: 0.6387 - val_accuracy: 0.7597\n",
      "Epoch 55/100\n",
      "10/10 [==============================] - 0s 4ms/step - loss: 0.5869 - accuracy: 0.7980 - val_loss: 0.6386 - val_accuracy: 0.7532\n",
      "Epoch 56/100\n",
      "10/10 [==============================] - 0s 4ms/step - loss: 0.6254 - accuracy: 0.7736 - val_loss: 0.6370 - val_accuracy: 0.7532\n",
      "Epoch 57/100\n",
      "10/10 [==============================] - 0s 4ms/step - loss: 0.6043 - accuracy: 0.7818 - val_loss: 0.6367 - val_accuracy: 0.7532\n",
      "Epoch 58/100\n",
      "10/10 [==============================] - 0s 4ms/step - loss: 0.5721 - accuracy: 0.7899 - val_loss: 0.6364 - val_accuracy: 0.7532\n",
      "Epoch 59/100\n",
      "10/10 [==============================] - 0s 4ms/step - loss: 0.5715 - accuracy: 0.7834 - val_loss: 0.6371 - val_accuracy: 0.7532\n",
      "Epoch 60/100\n",
      "10/10 [==============================] - 0s 4ms/step - loss: 0.5958 - accuracy: 0.7736 - val_loss: 0.6369 - val_accuracy: 0.7532\n",
      "Epoch 61/100\n",
      "10/10 [==============================] - 0s 3ms/step - loss: 0.6021 - accuracy: 0.7736 - val_loss: 0.6351 - val_accuracy: 0.7403\n",
      "Epoch 62/100\n",
      "10/10 [==============================] - 0s 4ms/step - loss: 0.5897 - accuracy: 0.7769 - val_loss: 0.6338 - val_accuracy: 0.7403\n",
      "Epoch 63/100\n",
      "10/10 [==============================] - 0s 4ms/step - loss: 0.5705 - accuracy: 0.7720 - val_loss: 0.6347 - val_accuracy: 0.7468\n",
      "Epoch 64/100\n",
      "10/10 [==============================] - 0s 3ms/step - loss: 0.5626 - accuracy: 0.7769 - val_loss: 0.6350 - val_accuracy: 0.7468\n",
      "Epoch 65/100\n",
      "10/10 [==============================] - 0s 4ms/step - loss: 0.5922 - accuracy: 0.7638 - val_loss: 0.6349 - val_accuracy: 0.7468\n",
      "Epoch 66/100\n",
      "10/10 [==============================] - 0s 4ms/step - loss: 0.5788 - accuracy: 0.7801 - val_loss: 0.6345 - val_accuracy: 0.7468\n",
      "Epoch 67/100\n",
      "10/10 [==============================] - 0s 4ms/step - loss: 0.5746 - accuracy: 0.7834 - val_loss: 0.6341 - val_accuracy: 0.7468\n",
      "Epoch 68/100\n",
      "10/10 [==============================] - 0s 4ms/step - loss: 0.5726 - accuracy: 0.7752 - val_loss: 0.6334 - val_accuracy: 0.7468\n",
      "Epoch 69/100\n",
      "10/10 [==============================] - 0s 4ms/step - loss: 0.5716 - accuracy: 0.7769 - val_loss: 0.6326 - val_accuracy: 0.7532\n",
      "Epoch 70/100\n",
      "10/10 [==============================] - 0s 4ms/step - loss: 0.5750 - accuracy: 0.7769 - val_loss: 0.6332 - val_accuracy: 0.7532\n",
      "Epoch 71/100\n",
      "10/10 [==============================] - 0s 4ms/step - loss: 0.5704 - accuracy: 0.7866 - val_loss: 0.6330 - val_accuracy: 0.7597\n",
      "Epoch 72/100\n",
      "10/10 [==============================] - 0s 4ms/step - loss: 0.5615 - accuracy: 0.7785 - val_loss: 0.6323 - val_accuracy: 0.7532\n",
      "Epoch 73/100\n",
      "10/10 [==============================] - 0s 4ms/step - loss: 0.5816 - accuracy: 0.7818 - val_loss: 0.6309 - val_accuracy: 0.7468\n",
      "Epoch 74/100\n",
      "10/10 [==============================] - 0s 4ms/step - loss: 0.5520 - accuracy: 0.7801 - val_loss: 0.6319 - val_accuracy: 0.7532\n",
      "Epoch 75/100\n",
      "10/10 [==============================] - 0s 5ms/step - loss: 0.5518 - accuracy: 0.7769 - val_loss: 0.6333 - val_accuracy: 0.7532\n",
      "Epoch 76/100\n",
      "10/10 [==============================] - 0s 4ms/step - loss: 0.5721 - accuracy: 0.7785 - val_loss: 0.6336 - val_accuracy: 0.7597\n",
      "Epoch 77/100\n",
      "10/10 [==============================] - 0s 4ms/step - loss: 0.5575 - accuracy: 0.7883 - val_loss: 0.6336 - val_accuracy: 0.7532\n",
      "Epoch 78/100\n",
      "10/10 [==============================] - 0s 4ms/step - loss: 0.5610 - accuracy: 0.7883 - val_loss: 0.6321 - val_accuracy: 0.7532\n",
      "Epoch 79/100\n",
      "10/10 [==============================] - 0s 4ms/step - loss: 0.5716 - accuracy: 0.7883 - val_loss: 0.6309 - val_accuracy: 0.7532\n",
      "Epoch 80/100\n",
      "10/10 [==============================] - 0s 4ms/step - loss: 0.5477 - accuracy: 0.7866 - val_loss: 0.6304 - val_accuracy: 0.7597\n",
      "Epoch 81/100\n",
      "10/10 [==============================] - 0s 4ms/step - loss: 0.5796 - accuracy: 0.7932 - val_loss: 0.6297 - val_accuracy: 0.7532\n",
      "Epoch 82/100\n",
      "10/10 [==============================] - 0s 4ms/step - loss: 0.5549 - accuracy: 0.7866 - val_loss: 0.6297 - val_accuracy: 0.7532\n",
      "Epoch 83/100\n",
      "10/10 [==============================] - 0s 4ms/step - loss: 0.5745 - accuracy: 0.7899 - val_loss: 0.6274 - val_accuracy: 0.7597\n",
      "Epoch 84/100\n",
      "10/10 [==============================] - 0s 4ms/step - loss: 0.5713 - accuracy: 0.7834 - val_loss: 0.6259 - val_accuracy: 0.7597\n",
      "Epoch 85/100\n",
      "10/10 [==============================] - 0s 4ms/step - loss: 0.5315 - accuracy: 0.7915 - val_loss: 0.6264 - val_accuracy: 0.7597\n",
      "Epoch 86/100\n",
      "10/10 [==============================] - 0s 4ms/step - loss: 0.5577 - accuracy: 0.7834 - val_loss: 0.6270 - val_accuracy: 0.7597\n",
      "Epoch 87/100\n",
      "10/10 [==============================] - 0s 4ms/step - loss: 0.5465 - accuracy: 0.7818 - val_loss: 0.6260 - val_accuracy: 0.7597\n",
      "Epoch 88/100\n",
      "10/10 [==============================] - 0s 4ms/step - loss: 0.5468 - accuracy: 0.7964 - val_loss: 0.6255 - val_accuracy: 0.7597\n",
      "Epoch 89/100\n",
      "10/10 [==============================] - 0s 4ms/step - loss: 0.5410 - accuracy: 0.8046 - val_loss: 0.6249 - val_accuracy: 0.7597\n",
      "Epoch 90/100\n",
      "10/10 [==============================] - 0s 4ms/step - loss: 0.5222 - accuracy: 0.7850 - val_loss: 0.6258 - val_accuracy: 0.7597\n",
      "Epoch 91/100\n",
      "10/10 [==============================] - 0s 4ms/step - loss: 0.5464 - accuracy: 0.7948 - val_loss: 0.6256 - val_accuracy: 0.7597\n",
      "Epoch 92/100\n",
      "10/10 [==============================] - 0s 4ms/step - loss: 0.5588 - accuracy: 0.7948 - val_loss: 0.6247 - val_accuracy: 0.7597\n",
      "Epoch 93/100\n",
      "10/10 [==============================] - 0s 4ms/step - loss: 0.5279 - accuracy: 0.7948 - val_loss: 0.6236 - val_accuracy: 0.7662\n",
      "Epoch 94/100\n",
      "10/10 [==============================] - 0s 4ms/step - loss: 0.5552 - accuracy: 0.7980 - val_loss: 0.6236 - val_accuracy: 0.7662\n",
      "Epoch 95/100\n",
      "10/10 [==============================] - 0s 4ms/step - loss: 0.5368 - accuracy: 0.7834 - val_loss: 0.6229 - val_accuracy: 0.7662\n",
      "Epoch 96/100\n",
      "10/10 [==============================] - 0s 4ms/step - loss: 0.5598 - accuracy: 0.7932 - val_loss: 0.6216 - val_accuracy: 0.7597\n",
      "Epoch 97/100\n",
      "10/10 [==============================] - 0s 4ms/step - loss: 0.5527 - accuracy: 0.7785 - val_loss: 0.6198 - val_accuracy: 0.7662\n",
      "Epoch 98/100\n",
      "10/10 [==============================] - 0s 5ms/step - loss: 0.5385 - accuracy: 0.8013 - val_loss: 0.6185 - val_accuracy: 0.7662\n",
      "Epoch 99/100\n",
      "10/10 [==============================] - 0s 5ms/step - loss: 0.5345 - accuracy: 0.7915 - val_loss: 0.6187 - val_accuracy: 0.7662\n",
      "Epoch 100/100\n",
      "10/10 [==============================] - 0s 4ms/step - loss: 0.5429 - accuracy: 0.7736 - val_loss: 0.6182 - val_accuracy: 0.7662\n"
     ]
    }
   ],
   "source": [
    "history = mlp.fit(X_train, y_train, epochs=100, batch_size=64, verbose=1, validation_data=(X_test, y_test))"
   ]
  },
  {
   "cell_type": "code",
   "execution_count": 86,
   "id": "41f2e88f-cfda-4a5a-a01a-45f65f4e682d",
   "metadata": {},
   "outputs": [
    {
     "name": "stdout",
     "output_type": "stream",
     "text": [
      "5/5 [==============================] - 0s 1ms/step\n"
     ]
    }
   ],
   "source": [
    "mlp_accuracy = mlp.evaluate(X_test, y_test, verbose=0)[1]\n",
    "y_pred_mlp = (mlp.predict(X_test) > 0.5).astype(int)"
   ]
  },
  {
   "cell_type": "code",
   "execution_count": 87,
   "id": "9778f42d-741a-4f40-a9ba-0475acde17c6",
   "metadata": {},
   "outputs": [
    {
     "name": "stdout",
     "output_type": "stream",
     "text": [
      "MLP Accuracy: 0.7662337422370911\n"
     ]
    }
   ],
   "source": [
    "print(f\"MLP Accuracy: {mlp_accuracy}\")"
   ]
  },
  {
   "cell_type": "code",
   "execution_count": 88,
   "id": "ef47900f-3e75-4e25-841b-4966d6c5704c",
   "metadata": {},
   "outputs": [],
   "source": [
    "import matplotlib.pyplot as plt"
   ]
  },
  {
   "cell_type": "code",
   "execution_count": 89,
   "id": "12b86bce-62ed-40ca-adc6-bf5969c075db",
   "metadata": {},
   "outputs": [
    {
     "data": {
      "image/png": "[encoded data removed]",
      "text/plain": [
       "<Figure size 640x480 with 1 Axes>"
      ]
     },
     "metadata": {},
     "output_type": "display_data"
    }
   ],
   "source": [
    "# Plot training & validation loss\n",
    "plt.plot(history.history['loss'], label='Train Loss')\n",
    "plt.plot(history.history['val_loss'], label='Validation Loss')\n",
    "plt.xlabel('Epochs')\n",
    "plt.ylabel('Loss')\n",
    "plt.legend()\n",
    "plt.title('Model Loss Over Epochs')\n",
    "plt.show()\n"
   ]
  },
  {
   "cell_type": "code",
   "execution_count": null,
   "id": "2952224f-a0e6-4c37-be54-e5218d76997a",
   "metadata": {},
   "outputs": [],
   "source": []
  }
 ],
 "metadata": {
  "kernelspec": {
   "display_name": "Python 3 (ipykernel)",
   "language": "python",
   "name": "python3"
  },
  "language_info": {
   "codemirror_mode": {
    "name": "ipython",
    "version": 3
   },
   "file_extension": ".py",
   "mimetype": "text/x-python",
   "name": "python",
   "nbconvert_exporter": "python",
   "pygments_lexer": "ipython3",
   "version": "3.10.5"
  }
 },
 "nbformat": 4,
 "nbformat_minor": 5
}
